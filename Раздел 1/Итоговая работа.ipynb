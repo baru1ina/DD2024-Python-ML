{
 "cells": [
  {
   "cell_type": "markdown",
   "id": "4feb6bdc",
   "metadata": {},
   "source": [
    "# Конторальная работа"
   ]
  },
  {
   "cell_type": "markdown",
   "id": "4b6631bd",
   "metadata": {},
   "source": [
    "## Порядок сдачи"
   ]
  },
  {
   "cell_type": "markdown",
   "id": "bee4fcc0",
   "metadata": {},
   "source": [
    "Каждое задание оценивается в 10 баллов. Код нужно отправить напрямую в СДО как текст. Перед сдачей проверьте код, напишите тесты. Не забудьте про `PEP8`, например, с помощью `flake8`.\n",
    "\n",
    "Дедлайн - 9 декабря 10:00"
   ]
  },
  {
   "cell_type": "markdown",
   "id": "d777f71d",
   "metadata": {
    "ExecuteTime": {
     "end_time": "2024-11-03T13:46:28.412754Z",
     "start_time": "2024-11-03T13:46:28.400723Z"
    }
   },
   "source": [
    "## Разворот строки"
   ]
  },
  {
   "cell_type": "markdown",
   "id": "922a2c11",
   "metadata": {
    "ExecuteTime": {
     "end_time": "2024-11-29T05:14:51.098358Z",
     "start_time": "2024-11-29T05:14:51.077875Z"
    }
   },
   "source": [
    "Напишите функцию, которая принимает строку в качестве входного параметра и возвращает новую строку, в которой символы исходной строки расположены в обратном порядке."
   ]
  },
  {
   "cell_type": "code",
   "execution_count": 1,
   "id": "806e728c",
   "metadata": {
    "ExecuteTime": {
     "end_time": "2024-11-29T05:16:11.730919Z",
     "start_time": "2024-11-29T05:16:11.713903Z"
    }
   },
   "outputs": [
    {
     "name": "stdout",
     "output_type": "stream",
     "text": [
      "olleh\n",
      "тевирП\n",
      "54321\n"
     ]
    }
   ],
   "source": [
    "def reverse_string(s):\n",
    "    return s[::-1]\n",
    "\n",
    "print(reverse_string(\"hello\"))    # Вывод: \"olleh\"\n",
    "print(reverse_string(\"Привет\"))   # Вывод: \"тевирП\"\n",
    "print(reverse_string(\"12345\"))    # Вывод: \"54321\""
   ]
  },
  {
   "cell_type": "markdown",
   "id": "4e5cb30c",
   "metadata": {},
   "source": [
    "# Ромб"
   ]
  },
  {
   "cell_type": "markdown",
   "id": "5cfea6f0",
   "metadata": {},
   "source": [
    "Напишите функцию, которая выводит на экран ромб, составленный из символов звёздочек `*`. Размер ромба определяется введённым пользователем нечётным числом n, которое задаёт ширину (и высоту) ромба в его самой широкой части."
   ]
  },
  {
   "cell_type": "code",
   "execution_count": 8,
   "id": "4b19f7e2",
   "metadata": {},
   "outputs": [
    {
     "name": "stdout",
     "output_type": "stream",
     "text": [
      "   *\n",
      "  ***\n",
      " *****\n",
      "*******\n",
      " *****\n",
      "  ***\n",
      "   *\n",
      "введите нечётное число больше 0\n"
     ]
    }
   ],
   "source": [
    "def draw(n):\n",
    "    if n % 2 == 0 or n <= 0:\n",
    "        print(\"введите нечётное число больше 0\")\n",
    "        return\n",
    "    \n",
    "    mid = n // 2\n",
    "    for i in range(mid + 1):\n",
    "        print(\" \" * (mid - i) + \"*\" * (2 * i + 1))\n",
    "        \n",
    "    for i in range(mid - 1, -1, -1):\n",
    "        print(\" \" * (mid - i) + \"*\" * (2 * i + 1))\n",
    "\n",
    "draw(7)\n",
    "#   *\n",
    "#  ***\n",
    "# *****\n",
    "#*******\n",
    "# *****\n",
    "#  ***\n",
    "#   *\n",
    "\n",
    "draw(10)\n",
    "# введите нечётное число больше 0"
   ]
  },
  {
   "cell_type": "markdown",
   "id": "a86c90c8",
   "metadata": {},
   "source": [
    "# НОД"
   ]
  },
  {
   "cell_type": "markdown",
   "id": "3f967b9f",
   "metadata": {
    "ExecuteTime": {
     "end_time": "2024-11-29T05:21:08.316284Z",
     "start_time": "2024-11-29T05:21:08.286749Z"
    }
   },
   "source": [
    "Напишите функцию, которая вычисляет наибольший общий делитель (НОД) двух целых чисел."
   ]
  },
  {
   "cell_type": "code",
   "execution_count": 9,
   "id": "de608275",
   "metadata": {},
   "outputs": [
    {
     "name": "stdout",
     "output_type": "stream",
     "text": [
      "6\n",
      "25\n",
      "1\n"
     ]
    }
   ],
   "source": [
    "def gcd(a, b):\n",
    "    while b != 0:\n",
    "        a, b = b, a % b\n",
    "    return abs(a) \n",
    "\n",
    "print(gcd(48, 18))   # Вывод: 6\n",
    "print(gcd(100, 25))  # Вывод: 25\n",
    "print(gcd(17, 13))   # Вывод: 1"
   ]
  },
  {
   "cell_type": "markdown",
   "id": "49641d4f",
   "metadata": {
    "ExecuteTime": {
     "end_time": "2024-11-29T05:22:49.681923Z",
     "start_time": "2024-11-29T05:22:49.657297Z"
    }
   },
   "source": [
    "# Система счисления"
   ]
  },
  {
   "cell_type": "markdown",
   "id": "82e1a3cf",
   "metadata": {},
   "source": [
    "Напишите функцию, которая принимает строковое представление числа в произвольной системе (макс. 36) счисления и его основание, и возвращает это число в десятичной системе счисления."
   ]
  },
  {
   "cell_type": "code",
   "execution_count": 11,
   "id": "0365d57b",
   "metadata": {
    "ExecuteTime": {
     "end_time": "2024-11-29T05:23:50.498455Z",
     "start_time": "2024-11-29T05:23:50.480951Z"
    }
   },
   "outputs": [
    {
     "name": "stdout",
     "output_type": "stream",
     "text": [
      "10\n",
      "26\n",
      "83\n",
      "35\n"
     ]
    }
   ],
   "source": [
    "def convert_to_decimal(number_str, base):\n",
    "    return int(number_str, base)\n",
    "\n",
    "print(convert_to_decimal(\"1010\", 2))    # Вывод: 10\n",
    "print(convert_to_decimal(\"1A\", 16))     # Вывод: 26\n",
    "print(convert_to_decimal(\"123\", 8))     # Вывод: 83\n",
    "print(convert_to_decimal(\"Z\", 36))      # Вывод: 35"
   ]
  },
  {
   "cell_type": "markdown",
   "id": "be9f88ed",
   "metadata": {
    "ExecuteTime": {
     "end_time": "2024-11-29T05:24:07.620180Z",
     "start_time": "2024-11-29T05:24:07.594765Z"
    }
   },
   "source": [
    "# Палиндром"
   ]
  },
  {
   "cell_type": "markdown",
   "id": "f0a84a85",
   "metadata": {},
   "source": [
    "Напишите функцию, которая проверяет, является ли заданная строка палиндромом."
   ]
  },
  {
   "cell_type": "code",
   "execution_count": 12,
   "id": "70581d0a",
   "metadata": {
    "ExecuteTime": {
     "end_time": "2024-11-29T05:25:32.462861Z",
     "start_time": "2024-11-29T05:25:32.440252Z"
    }
   },
   "outputs": [
    {
     "name": "stdout",
     "output_type": "stream",
     "text": [
      "True\n",
      "True\n",
      "False\n"
     ]
    }
   ],
   "source": [
    "def is_palindrome(s):\n",
    "    s = s.lower()\n",
    "    \n",
    "    left, right = 0, len(s) - 1\n",
    "    \n",
    "    while left < right:\n",
    "        if s[left] != s[right]:\n",
    "            return False\n",
    "        left += 1\n",
    "        right -= 1\n",
    "        \n",
    "    return True\n",
    "\n",
    "print(is_palindrome(\"мадам\"))                  # Вывод: True\n",
    "print(is_palindrome(\"топот\"))                  # Вывод: True\n",
    "print(is_palindrome(\"привет\"))                 # Вывод: False"
   ]
  },
  {
   "cell_type": "markdown",
   "id": "71e9e2d5",
   "metadata": {},
   "source": [
    "# k порядковая статистика"
   ]
  },
  {
   "cell_type": "markdown",
   "id": "6684874d",
   "metadata": {},
   "source": [
    "Напишите функцию, которая принимает массив чисел и целое число $k$, и вычисляет количество элементов в массиве, которые больше, чем элемент, находящийся на позиции $k$ в упорядоченном по возрастанию массиве (т.е. больше, чем $k$-я порядковая статистика)."
   ]
  },
  {
   "cell_type": "code",
   "execution_count": 21,
   "id": "44ed558c",
   "metadata": {},
   "outputs": [
    {
     "name": "stdout",
     "output_type": "stream",
     "text": [
      "2\n"
     ]
    }
   ],
   "source": [
    "def count_greater_than_kth(arr, k):\n",
    "    \n",
    "    def partition(arr, low, high):\n",
    "        pivot = arr[high]\n",
    "        i = low - 1\n",
    "        for j in range(low, high):\n",
    "            if arr[j] <= pivot:\n",
    "                i += 1\n",
    "                arr[i], arr[j] = arr[j], arr[i]\n",
    "        arr[i + 1], arr[high] = arr[high], arr[i + 1]\n",
    "        return i + 1\n",
    "\n",
    "    def quickselect(arr, low, high, k):\n",
    "        if k < 1 or k > len(arr):\n",
    "            raise ValueError(\"значение k должно быть в пределах от 1 до длины arr\")\n",
    "            \n",
    "        if low <= high:\n",
    "            pivot_index = partition(arr, low, high)\n",
    "    \n",
    "            if pivot_index == k:\n",
    "                return arr[pivot_index]\n",
    "            elif pivot_index > k:\n",
    "                return quickselect(arr, low, pivot_index - 1, k)\n",
    "            else:\n",
    "                return quickselect(arr, pivot_index + 1, high, k)\n",
    "            \n",
    "    kth_stat = quickselect(arr, 0, len(arr) - 1, k - 1)\n",
    "    count = sum(1 for x in arr if x > kth_stat)\n",
    "\n",
    "    return count\n",
    "\n",
    "arr = [5, 3, 8, 6, 2]\n",
    "k = 3\n",
    "result = count_greater_than_kth(arr, k)\n",
    "print(result)  # Вывод: 2"
   ]
  },
  {
   "cell_type": "markdown",
   "id": "77efd0dc",
   "metadata": {},
   "source": [
    "# Уникальные подстроки"
   ]
  },
  {
   "cell_type": "markdown",
   "id": "46fef851",
   "metadata": {},
   "source": [
    "Напишите функцию, которая принимает строку и целое число k, и подсчитывает количество уникальных подстрок длины k в этом тексте."
   ]
  },
  {
   "cell_type": "code",
   "execution_count": 17,
   "id": "424e65b3",
   "metadata": {},
   "outputs": [
    {
     "name": "stdout",
     "output_type": "stream",
     "text": [
      "3\n"
     ]
    }
   ],
   "source": [
    "def count_unique_substrings(text, k):\n",
    "    if k <= 0:\n",
    "        raise ValueError(\"k должно быть положительным числом.\")\n",
    "    if k > len(text):\n",
    "        raise ValueError(\"k не должно быть больше длины строки.\")\n",
    "\n",
    "    unique_substrings = set()\n",
    "\n",
    "    for i in range(len(text) - k + 1):\n",
    "        substring = text[i:i + k]\n",
    "        unique_substrings.add(substring)\n",
    "\n",
    "    return len(unique_substrings)\n",
    "\n",
    "text = \"abcabc\"\n",
    "k = 3\n",
    "result = count_unique_substrings(text, k)\n",
    "print(result)  # Вывод: 3"
   ]
  },
  {
   "cell_type": "markdown",
   "id": "cf18ac36",
   "metadata": {},
   "source": [
    "# Минимум"
   ]
  },
  {
   "cell_type": "markdown",
   "id": "9877ee9c",
   "metadata": {},
   "source": [
    "Напишите функцию, которая для заданного целого числа N находит такие целые положительные числа $a, b, c$, что произведение $a * b * c = N$, и сумма $a + b + c$ минимальна."
   ]
  },
  {
   "cell_type": "code",
   "execution_count": 22,
   "id": "d9d979e2",
   "metadata": {},
   "outputs": [
    {
     "name": "stdout",
     "output_type": "stream",
     "text": [
      "(2, 2, 3)\n",
      "(3, 3, 3)\n",
      "(1, 1, 7)\n"
     ]
    }
   ],
   "source": [
    "def minimum(n):\n",
    "    if n <= 0:\n",
    "        raise ValueError(\"N должно быть положительным целым числом.\")\n",
    "\n",
    "    min_sum = float('inf')\n",
    "    result = (0, 0, 0)\n",
    "\n",
    "    for a in range(1, int(n ** (1/3)) + 1):\n",
    "        if n % a == 0:\n",
    "            for b in range(a, int((n // a) ** 0.5) + 1):\n",
    "                if (n // a) % b == 0:\n",
    "                    c = n // (a * b)\n",
    "                    if a * b * c == n:\n",
    "                        current_sum = a + b + c\n",
    "                        if current_sum < min_sum:\n",
    "                            min_sum = current_sum\n",
    "                            result = (a, b, c)\n",
    "\n",
    "    return result\n",
    "\n",
    "print(minimum(12))                  # Вывод: 2, 2, 3\n",
    "print(minimum(27))                  # Вывод: 3, 3, 3\n",
    "print(minimum(7))                   # Вывод: 1, 1, 7"
   ]
  },
  {
   "cell_type": "markdown",
   "id": "9e5b32c1",
   "metadata": {
    "ExecuteTime": {
     "end_time": "2024-11-29T05:39:16.335011Z",
     "start_time": "2024-11-29T05:39:16.321409Z"
    }
   },
   "source": [
    "# Определитель"
   ]
  },
  {
   "cell_type": "markdown",
   "id": "1458eff3",
   "metadata": {
    "ExecuteTime": {
     "end_time": "2024-11-29T05:39:34.497125Z",
     "start_time": "2024-11-29T05:39:34.474266Z"
    }
   },
   "source": [
    "Напишите функцию, которая вычисляет определитель заданной квадратной матрицы."
   ]
  },
  {
   "cell_type": "code",
   "execution_count": 25,
   "id": "40491c23",
   "metadata": {},
   "outputs": [
    {
     "name": "stdout",
     "output_type": "stream",
     "text": [
      "2.0\n"
     ]
    }
   ],
   "source": [
    "def determinant(matrix):\n",
    "    n = len(matrix)\n",
    "    \n",
    "    for i in range(n):\n",
    "        max_row = max(range(i, n), key=lambda r: abs(matrix[r][i]))\n",
    "        if matrix[max_row][i] == 0:\n",
    "            return 0 \n",
    "            \n",
    "        matrix[i], matrix[max_row] = matrix[max_row], matrix[i]\n",
    "\n",
    "        for j in range(i + 1, n):\n",
    "            if matrix[j][i] != 0:\n",
    "                factor = matrix[j][i] / matrix[i][i]\n",
    "                for k in range(i, n):\n",
    "                    matrix[j][k] -= factor * matrix[i][k]\n",
    "\n",
    "    det = 1.0\n",
    "    for i in range(n):\n",
    "        det *= matrix[i][i]\n",
    "    \n",
    "    return det\n",
    "\n",
    "matrix = [\n",
    "    [1, 2],\n",
    "    [3, 4]\n",
    "]\n",
    "result = determinant(matrix)\n",
    "print(result)  # Вывод: -2"
   ]
  },
  {
   "cell_type": "markdown",
   "id": "c9983f43",
   "metadata": {},
   "source": [
    "# Скобочная последовательность"
   ]
  },
  {
   "cell_type": "markdown",
   "id": "e776102b",
   "metadata": {},
   "source": [
    "Напишите функцию, которая проверяет правильность скобочной последовательности в заданной строке. Последовательность считается правильной, если все открывающиеся скобки корректно закрываются соответствующими закрывающими скобками в правильном порядке."
   ]
  },
  {
   "cell_type": "code",
   "execution_count": 28,
   "id": "0afd220e",
   "metadata": {},
   "outputs": [
    {
     "name": "stdout",
     "output_type": "stream",
     "text": [
      "True\n"
     ]
    }
   ],
   "source": [
    "def is_valid_sequence(s):\n",
    "    matching_brackets = {\n",
    "        '(': ')',\n",
    "        '[': ']',\n",
    "        '{': '}'\n",
    "    }\n",
    "    \n",
    "    stack = []\n",
    "    \n",
    "    for char in s:\n",
    "        if char in matching_brackets:\n",
    "            stack.append(char)\n",
    "        elif char in matching_brackets.values():\n",
    "            if not stack or matching_brackets[stack.pop()] != char:\n",
    "                return False\n",
    "    return len(stack) == 0\n",
    "\n",
    "s = \"({[]})\"\n",
    "result = is_valid_sequence(s)\n",
    "print(result)  # Вывод: True"
   ]
  },
  {
   "cell_type": "code",
   "execution_count": null,
   "id": "6c4ec647-8c69-4191-8a9e-d3ff0fc2a313",
   "metadata": {},
   "outputs": [],
   "source": []
  }
 ],
 "metadata": {
  "kernelspec": {
   "display_name": "Python 3 (ipykernel)",
   "language": "python",
   "name": "python3"
  },
  "language_info": {
   "codemirror_mode": {
    "name": "ipython",
    "version": 3
   },
   "file_extension": ".py",
   "mimetype": "text/x-python",
   "name": "python",
   "nbconvert_exporter": "python",
   "pygments_lexer": "ipython3",
   "version": "3.11.0"
  }
 },
 "nbformat": 4,
 "nbformat_minor": 5
}
